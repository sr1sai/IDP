{
 "cells": [
  {
   "cell_type": "code",
   "execution_count": null,
   "metadata": {},
   "outputs": [],
   "source": [
    "import numpy as np\n",
    "import torch\n",
    "import cv2\n",
    "from ultralytics import YOLO"
   ]
  },
  {
   "cell_type": "code",
   "execution_count": null,
   "metadata": {},
   "outputs": [],
   "source": [
    "# Load YOLO model\n",
    "model = YOLO('yolov8n-seg.pt')"
   ]
  },
  {
   "cell_type": "code",
   "execution_count": null,
   "metadata": {},
   "outputs": [],
   "source": [
    "# Read the image\n",
    "img = cv2.imread(\"C:\\\\Users\\\\Sri Sai\\\\OneDrive\\\\Desktop\\\\IDP\\\\phase_3\\\\phimg.png\")"
   ]
  },
  {
   "cell_type": "code",
   "execution_count": null,
   "metadata": {},
   "outputs": [],
   "source": [
    "# Make predictions\n",
    "res = model(img)"
   ]
  },
  {
   "cell_type": "code",
   "execution_count": null,
   "metadata": {},
   "outputs": [],
   "source": [
    "for box in res[0].boxes:\n",
    "    class_name = res[0].names[int(box.cls)]\n",
    "    # Extract box coordinates\n",
    "    xyxy = box.xyxy[0].int().cpu().numpy()  # box.xyxy is a list, so we access its first element\n",
    "    x1, y1, x2, y2 = xyxy\n",
    "    # Extract segment from the image\n",
    "    segment = img[y1:y2, x1:x2]\n",
    "    # Display or process the segment as needed\n",
    "    cv2.imshow(class_name, segment)\n",
    "    cv2.waitKey(0)\n",
    "    cv2.destroyAllWindows()"
   ]
  },
  {
   "cell_type": "code",
   "execution_count": null,
   "metadata": {},
   "outputs": [],
   "source": [
    "l_model=model(\".pt\")\n",
    "objects={}"
   ]
  },
  {
   "cell_type": "code",
   "execution_count": null,
   "metadata": {},
   "outputs": [],
   "source": [
    "for box in res[0].boxes:\n",
    "    class_name = res[0].names[int(box.cls)]\n",
    "    # Extract box coordinates\n",
    "    xyxy = box.xyxy[0].int().cpu().numpy()  # box.xyxy is a list, so we access its first element\n",
    "    x1, y1, x2, y2 = xyxy\n",
    "    # Extract segment from the image\n",
    "    segment = img[y1:y2, x1:x2]\n",
    "    objects[class_name]=\"\"\n",
    "    logo=l_model(segment)\n",
    "    for sub_box in logo[0].boxes:\n",
    "        sub_box_class_name = logo[0].names[int(box.cls)]\n",
    "        objects[class_name]+=\"( \"+sub_box_class_name+\", \"+sub_box.conf+\" ) \"\n",
    "    # Display or process the segment as needed\n",
    "    cv2.imshow(class_name, segment)\n",
    "    cv2.waitKey(0)\n",
    "    cv2.destroyAllWindows()"
   ]
  }
 ],
 "metadata": {
  "kernelspec": {
   "display_name": ".venv",
   "language": "python",
   "name": "python3"
  },
  "language_info": {
   "codemirror_mode": {
    "name": "ipython",
    "version": 3
   },
   "file_extension": ".py",
   "mimetype": "text/x-python",
   "name": "python",
   "nbconvert_exporter": "python",
   "pygments_lexer": "ipython3",
   "version": "3.9.13"
  }
 },
 "nbformat": 4,
 "nbformat_minor": 2
}
