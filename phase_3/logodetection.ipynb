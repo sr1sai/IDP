{
 "cells": [
  {
   "cell_type": "code",
   "execution_count": 2,
   "metadata": {},
   "outputs": [
    {
     "name": "stdout",
     "output_type": "stream",
     "text": [
      "Requirement already satisfied: icevision in d:\\vs_code\\.venv\\lib\\site-packages (0.12.0)Note: you may need to restart the kernel to use updated packages.\n",
      "Requirement already satisfied: opencv-python<5,>=4.1.1 in d:\\vs_code\\.venv\\lib\\site-packages (from icevision) (4.7.0.72)\n",
      "\n"
     ]
    },
    {
     "name": "stderr",
     "output_type": "stream",
     "text": [
      "\n",
      "[notice] A new release of pip available: 22.3.1 -> 24.0\n",
      "[notice] To update, run: python.exe -m pip install --upgrade pip\n"
     ]
    },
    {
     "name": "stdout",
     "output_type": "stream",
     "text": [
      "Requirement already satisfied: albumentations<1.1,>=1.0.3 in d:\\vs_code\\.venv\\lib\\site-packages (from icevision) (1.0.3)\n",
      "Requirement already satisfied: yolov5-icevision>=6.0.0 in d:\\vs_code\\.venv\\lib\\site-packages (from icevision) (6.0.0)\n",
      "Requirement already satisfied: tqdm<5,>=4.49.0 in d:\\vs_code\\.venv\\lib\\site-packages (from icevision) (4.66.2)\n",
      "Requirement already satisfied: resnest<0.0.7,>=0.0.6b20201125 in d:\\vs_code\\.venv\\lib\\site-packages (from icevision) (0.0.6b20230402)\n",
      "Requirement already satisfied: torch<1.11,>=1.9.0 in d:\\vs_code\\.venv\\lib\\site-packages (from icevision) (1.10.2)\n",
      "Requirement already satisfied: pillow<9,>8.0.0 in d:\\vs_code\\.venv\\lib\\site-packages (from icevision) (8.4.0)\n",
      "Requirement already satisfied: loguru>=0.5.3 in d:\\vs_code\\.venv\\lib\\site-packages (from icevision) (0.7.2)\n",
      "Requirement already satisfied: sahi<1.0,>=0.8.19 in d:\\vs_code\\.venv\\lib\\site-packages (from icevision) (0.11.15)\n",
      "Requirement already satisfied: fastcore<1.4,>=1.3.0 in d:\\vs_code\\.venv\\lib\\site-packages (from icevision) (1.3.29)\n",
      "Requirement already satisfied: torchvision<0.12,>=0.10.0 in d:\\vs_code\\.venv\\lib\\site-packages (from icevision) (0.11.3)\n",
      "Requirement already satisfied: ipykernel<6,>=4.10.1 in d:\\vs_code\\.venv\\lib\\site-packages (from icevision) (5.5.6)\n",
      "Requirement already satisfied: dataclasses==0.6 in d:\\vs_code\\.venv\\lib\\site-packages (from icevision) (0.6)\n",
      "Requirement already satisfied: effdet<0.3,>=0.2.1 in d:\\vs_code\\.venv\\lib\\site-packages (from icevision) (0.2.4)\n",
      "Requirement already satisfied: scipy in d:\\vs_code\\.venv\\lib\\site-packages (from albumentations<1.1,>=1.0.3->icevision) (1.12.0)\n",
      "Requirement already satisfied: PyYAML in d:\\vs_code\\.venv\\lib\\site-packages (from albumentations<1.1,>=1.0.3->icevision) (6.0)\n",
      "Requirement already satisfied: numpy>=1.11.1 in d:\\vs_code\\.venv\\lib\\site-packages (from albumentations<1.1,>=1.0.3->icevision) (1.24.1)\n",
      "Requirement already satisfied: scikit-image>=0.16.1 in d:\\vs_code\\.venv\\lib\\site-packages (from albumentations<1.1,>=1.0.3->icevision) (0.19.3)\n",
      "Requirement already satisfied: opencv-python-headless>=4.1.1 in d:\\vs_code\\.venv\\lib\\site-packages (from albumentations<1.1,>=1.0.3->icevision) (4.9.0.80)\n",
      "Requirement already satisfied: timm>=0.3.2 in d:\\vs_code\\.venv\\lib\\site-packages (from effdet<0.3,>=0.2.1->icevision) (0.9.16)\n",
      "Requirement already satisfied: pycocotools>=2.0.2 in d:\\vs_code\\.venv\\lib\\site-packages (from effdet<0.3,>=0.2.1->icevision) (2.0.7)\n",
      "Requirement already satisfied: omegaconf>=2.0 in d:\\vs_code\\.venv\\lib\\site-packages (from effdet<0.3,>=0.2.1->icevision) (2.3.0)\n",
      "Requirement already satisfied: pip in d:\\vs_code\\.venv\\lib\\site-packages (from fastcore<1.4,>=1.3.0->icevision) (22.3.1)\n",
      "Requirement already satisfied: packaging in d:\\vs_code\\.venv\\lib\\site-packages (from fastcore<1.4,>=1.3.0->icevision) (22.0)\n",
      "Requirement already satisfied: jupyter-client in d:\\vs_code\\.venv\\lib\\site-packages (from ipykernel<6,>=4.10.1->icevision) (7.4.8)\n",
      "Requirement already satisfied: ipython>=5.0.0 in d:\\vs_code\\.venv\\lib\\site-packages (from ipykernel<6,>=4.10.1->icevision) (8.8.0)\n",
      "Requirement already satisfied: traitlets>=4.1.0 in d:\\vs_code\\.venv\\lib\\site-packages (from ipykernel<6,>=4.10.1->icevision) (5.8.0)\n",
      "Requirement already satisfied: tornado>=4.2 in d:\\vs_code\\.venv\\lib\\site-packages (from ipykernel<6,>=4.10.1->icevision) (6.2)\n",
      "Requirement already satisfied: ipython-genutils in d:\\vs_code\\.venv\\lib\\site-packages (from ipykernel<6,>=4.10.1->icevision) (0.2.0)\n",
      "Requirement already satisfied: colorama>=0.3.4 in d:\\vs_code\\.venv\\lib\\site-packages (from loguru>=0.5.3->icevision) (0.4.6)\n",
      "Requirement already satisfied: win32-setctime>=1.0.0 in d:\\vs_code\\.venv\\lib\\site-packages (from loguru>=0.5.3->icevision) (1.1.0)\n",
      "Requirement already satisfied: fvcore in d:\\vs_code\\.venv\\lib\\site-packages (from resnest<0.0.7,>=0.0.6b20201125->icevision) (0.1.5.post20221221)\n",
      "Requirement already satisfied: iopath in d:\\vs_code\\.venv\\lib\\site-packages (from resnest<0.0.7,>=0.0.6b20201125->icevision) (0.1.10)\n",
      "Requirement already satisfied: nose in d:\\vs_code\\.venv\\lib\\site-packages (from resnest<0.0.7,>=0.0.6b20201125->icevision) (1.3.7)\n",
      "Requirement already satisfied: requests in d:\\vs_code\\.venv\\lib\\site-packages (from resnest<0.0.7,>=0.0.6b20201125->icevision) (2.31.0)\n",
      "Requirement already satisfied: fire in d:\\vs_code\\.venv\\lib\\site-packages (from sahi<1.0,>=0.8.19->icevision) (0.6.0)\n",
      "Requirement already satisfied: terminaltables in d:\\vs_code\\.venv\\lib\\site-packages (from sahi<1.0,>=0.8.19->icevision) (3.1.10)\n",
      "Requirement already satisfied: shapely>=1.8.0 in d:\\vs_code\\.venv\\lib\\site-packages (from sahi<1.0,>=0.8.19->icevision) (2.0.3)\n",
      "Requirement already satisfied: pybboxes==0.1.6 in d:\\vs_code\\.venv\\lib\\site-packages (from sahi<1.0,>=0.8.19->icevision) (0.1.6)\n",
      "Requirement already satisfied: click in d:\\vs_code\\.venv\\lib\\site-packages (from sahi<1.0,>=0.8.19->icevision) (8.1.7)\n",
      "Requirement already satisfied: typing-extensions in d:\\vs_code\\.venv\\lib\\site-packages (from torch<1.11,>=1.9.0->icevision) (4.10.0)\n",
      "Requirement already satisfied: tensorboard>=2.2 in d:\\vs_code\\.venv\\lib\\site-packages (from yolov5-icevision>=6.0.0->icevision) (2.16.2)\n",
      "Requirement already satisfied: matplotlib>=3.2.2 in d:\\vs_code\\.venv\\lib\\site-packages (from yolov5-icevision>=6.0.0->icevision) (3.8.3)\n",
      "Requirement already satisfied: seaborn>=0.11.0 in d:\\vs_code\\.venv\\lib\\site-packages (from yolov5-icevision>=6.0.0->icevision) (0.13.2)\n",
      "Requirement already satisfied: Cython in d:\\vs_code\\.venv\\lib\\site-packages (from yolov5-icevision>=6.0.0->icevision) (3.0.9)\n",
      "Requirement already satisfied: decorator in d:\\vs_code\\.venv\\lib\\site-packages (from ipython>=5.0.0->ipykernel<6,>=4.10.1->icevision) (4.4.2)\n",
      "Requirement already satisfied: jedi>=0.16 in d:\\vs_code\\.venv\\lib\\site-packages (from ipython>=5.0.0->ipykernel<6,>=4.10.1->icevision) (0.18.2)\n",
      "Requirement already satisfied: backcall in d:\\vs_code\\.venv\\lib\\site-packages (from ipython>=5.0.0->ipykernel<6,>=4.10.1->icevision) (0.2.0)\n",
      "Requirement already satisfied: pickleshare in d:\\vs_code\\.venv\\lib\\site-packages (from ipython>=5.0.0->ipykernel<6,>=4.10.1->icevision) (0.7.5)\n",
      "Requirement already satisfied: stack-data in d:\\vs_code\\.venv\\lib\\site-packages (from ipython>=5.0.0->ipykernel<6,>=4.10.1->icevision) (0.6.2)\n",
      "Requirement already satisfied: matplotlib-inline in d:\\vs_code\\.venv\\lib\\site-packages (from ipython>=5.0.0->ipykernel<6,>=4.10.1->icevision) (0.1.6)\n",
      "Requirement already satisfied: prompt-toolkit<3.1.0,>=3.0.11 in d:\\vs_code\\.venv\\lib\\site-packages (from ipython>=5.0.0->ipykernel<6,>=4.10.1->icevision) (3.0.36)\n",
      "Requirement already satisfied: pygments>=2.4.0 in d:\\vs_code\\.venv\\lib\\site-packages (from ipython>=5.0.0->ipykernel<6,>=4.10.1->icevision) (2.14.0)\n",
      "Requirement already satisfied: pyparsing>=2.3.1 in d:\\vs_code\\.venv\\lib\\site-packages (from matplotlib>=3.2.2->yolov5-icevision>=6.0.0->icevision) (3.1.1)\n",
      "Requirement already satisfied: contourpy>=1.0.1 in d:\\vs_code\\.venv\\lib\\site-packages (from matplotlib>=3.2.2->yolov5-icevision>=6.0.0->icevision) (1.2.0)\n",
      "Requirement already satisfied: kiwisolver>=1.3.1 in d:\\vs_code\\.venv\\lib\\site-packages (from matplotlib>=3.2.2->yolov5-icevision>=6.0.0->icevision) (1.4.5)\n",
      "Requirement already satisfied: fonttools>=4.22.0 in d:\\vs_code\\.venv\\lib\\site-packages (from matplotlib>=3.2.2->yolov5-icevision>=6.0.0->icevision) (4.49.0)\n",
      "Requirement already satisfied: cycler>=0.10 in d:\\vs_code\\.venv\\lib\\site-packages (from matplotlib>=3.2.2->yolov5-icevision>=6.0.0->icevision) (0.12.1)\n",
      "Requirement already satisfied: python-dateutil>=2.7 in d:\\vs_code\\.venv\\lib\\site-packages (from matplotlib>=3.2.2->yolov5-icevision>=6.0.0->icevision) (2.8.2)\n",
      "Requirement already satisfied: importlib-resources>=3.2.0 in d:\\vs_code\\.venv\\lib\\site-packages (from matplotlib>=3.2.2->yolov5-icevision>=6.0.0->icevision) (6.1.1)\n",
      "Requirement already satisfied: antlr4-python3-runtime==4.9.* in d:\\vs_code\\.venv\\lib\\site-packages (from omegaconf>=2.0->effdet<0.3,>=0.2.1->icevision) (4.9.3)\n",
      "Requirement already satisfied: networkx>=2.2 in d:\\vs_code\\.venv\\lib\\site-packages (from scikit-image>=0.16.1->albumentations<1.1,>=1.0.3->icevision) (3.2.1)\n",
      "Requirement already satisfied: imageio>=2.4.1 in d:\\vs_code\\.venv\\lib\\site-packages (from scikit-image>=0.16.1->albumentations<1.1,>=1.0.3->icevision) (2.34.0)\n",
      "Requirement already satisfied: tifffile>=2019.7.26 in d:\\vs_code\\.venv\\lib\\site-packages (from scikit-image>=0.16.1->albumentations<1.1,>=1.0.3->icevision) (2024.2.12)\n",
      "Requirement already satisfied: PyWavelets>=1.1.1 in d:\\vs_code\\.venv\\lib\\site-packages (from scikit-image>=0.16.1->albumentations<1.1,>=1.0.3->icevision) (1.5.0)\n",
      "Requirement already satisfied: pandas>=1.2 in d:\\vs_code\\.venv\\lib\\site-packages (from seaborn>=0.11.0->yolov5-icevision>=6.0.0->icevision) (2.2.0)\n",
      "Requirement already satisfied: setuptools>=41.0.0 in d:\\vs_code\\.venv\\lib\\site-packages (from tensorboard>=2.2->yolov5-icevision>=6.0.0->icevision) (58.1.0)\n",
      "Requirement already satisfied: protobuf!=4.24.0,>=3.19.6 in d:\\vs_code\\.venv\\lib\\site-packages (from tensorboard>=2.2->yolov5-icevision>=6.0.0->icevision) (5.26.0)\n",
      "Requirement already satisfied: absl-py>=0.4 in d:\\vs_code\\.venv\\lib\\site-packages (from tensorboard>=2.2->yolov5-icevision>=6.0.0->icevision) (2.1.0)\n",
      "Requirement already satisfied: tensorboard-data-server<0.8.0,>=0.7.0 in d:\\vs_code\\.venv\\lib\\site-packages (from tensorboard>=2.2->yolov5-icevision>=6.0.0->icevision) (0.7.2)\n",
      "Requirement already satisfied: six>1.9 in d:\\vs_code\\.venv\\lib\\site-packages (from tensorboard>=2.2->yolov5-icevision>=6.0.0->icevision) (1.16.0)\n",
      "Requirement already satisfied: werkzeug>=1.0.1 in d:\\vs_code\\.venv\\lib\\site-packages (from tensorboard>=2.2->yolov5-icevision>=6.0.0->icevision) (3.0.1)\n",
      "Requirement already satisfied: markdown>=2.6.8 in d:\\vs_code\\.venv\\lib\\site-packages (from tensorboard>=2.2->yolov5-icevision>=6.0.0->icevision) (3.6)\n",
      "Requirement already satisfied: grpcio>=1.48.2 in d:\\vs_code\\.venv\\lib\\site-packages (from tensorboard>=2.2->yolov5-icevision>=6.0.0->icevision) (1.62.1)\n",
      "Requirement already satisfied: safetensors in d:\\vs_code\\.venv\\lib\\site-packages (from timm>=0.3.2->effdet<0.3,>=0.2.1->icevision) (0.4.2)\n",
      "Requirement already satisfied: huggingface_hub in d:\\vs_code\\.venv\\lib\\site-packages (from timm>=0.3.2->effdet<0.3,>=0.2.1->icevision) (0.21.4)\n",
      "Requirement already satisfied: termcolor in d:\\vs_code\\.venv\\lib\\site-packages (from fire->sahi<1.0,>=0.8.19->icevision) (2.4.0)\n",
      "Requirement already satisfied: yacs>=0.1.6 in d:\\vs_code\\.venv\\lib\\site-packages (from fvcore->resnest<0.0.7,>=0.0.6b20201125->icevision) (0.1.8)\n",
      "Requirement already satisfied: tabulate in d:\\vs_code\\.venv\\lib\\site-packages (from fvcore->resnest<0.0.7,>=0.0.6b20201125->icevision) (0.9.0)\n",
      "Requirement already satisfied: portalocker in d:\\vs_code\\.venv\\lib\\site-packages (from iopath->resnest<0.0.7,>=0.0.6b20201125->icevision) (2.8.2)\n",
      "Requirement already satisfied: entrypoints in d:\\vs_code\\.venv\\lib\\site-packages (from jupyter-client->ipykernel<6,>=4.10.1->icevision) (0.4)\n",
      "Requirement already satisfied: jupyter-core>=4.9.2 in d:\\vs_code\\.venv\\lib\\site-packages (from jupyter-client->ipykernel<6,>=4.10.1->icevision) (5.1.2)\n",
      "Requirement already satisfied: pyzmq>=23.0 in d:\\vs_code\\.venv\\lib\\site-packages (from jupyter-client->ipykernel<6,>=4.10.1->icevision) (24.0.1)\n",
      "Requirement already satisfied: nest-asyncio>=1.5.4 in d:\\vs_code\\.venv\\lib\\site-packages (from jupyter-client->ipykernel<6,>=4.10.1->icevision) (1.5.6)\n",
      "Requirement already satisfied: urllib3<3,>=1.21.1 in d:\\vs_code\\.venv\\lib\\site-packages (from requests->resnest<0.0.7,>=0.0.6b20201125->icevision) (2.2.1)\n",
      "Requirement already satisfied: idna<4,>=2.5 in d:\\vs_code\\.venv\\lib\\site-packages (from requests->resnest<0.0.7,>=0.0.6b20201125->icevision) (3.4)\n",
      "Requirement already satisfied: charset-normalizer<4,>=2 in d:\\vs_code\\.venv\\lib\\site-packages (from requests->resnest<0.0.7,>=0.0.6b20201125->icevision) (3.3.2)\n",
      "Requirement already satisfied: certifi>=2017.4.17 in d:\\vs_code\\.venv\\lib\\site-packages (from requests->resnest<0.0.7,>=0.0.6b20201125->icevision) (2024.2.2)\n",
      "Requirement already satisfied: zipp>=3.1.0 in d:\\vs_code\\.venv\\lib\\site-packages (from importlib-resources>=3.2.0->matplotlib>=3.2.2->yolov5-icevision>=6.0.0->icevision) (3.11.0)\n",
      "Requirement already satisfied: parso<0.9.0,>=0.8.0 in d:\\vs_code\\.venv\\lib\\site-packages (from jedi>=0.16->ipython>=5.0.0->ipykernel<6,>=4.10.1->icevision) (0.8.3)\n",
      "Requirement already satisfied: platformdirs>=2.5 in d:\\vs_code\\.venv\\lib\\site-packages (from jupyter-core>=4.9.2->jupyter-client->ipykernel<6,>=4.10.1->icevision) (2.6.2)\n",
      "Requirement already satisfied: pywin32>=1.0 in d:\\vs_code\\.venv\\lib\\site-packages (from jupyter-core>=4.9.2->jupyter-client->ipykernel<6,>=4.10.1->icevision) (305)\n",
      "Requirement already satisfied: importlib-metadata>=4.4 in d:\\vs_code\\.venv\\lib\\site-packages (from markdown>=2.6.8->tensorboard>=2.2->yolov5-icevision>=6.0.0->icevision) (6.0.0)\n",
      "Requirement already satisfied: tzdata>=2022.7 in d:\\vs_code\\.venv\\lib\\site-packages (from pandas>=1.2->seaborn>=0.11.0->yolov5-icevision>=6.0.0->icevision) (2023.4)\n",
      "Requirement already satisfied: pytz>=2020.1 in d:\\vs_code\\.venv\\lib\\site-packages (from pandas>=1.2->seaborn>=0.11.0->yolov5-icevision>=6.0.0->icevision) (2023.3.post1)\n",
      "Requirement already satisfied: wcwidth in d:\\vs_code\\.venv\\lib\\site-packages (from prompt-toolkit<3.1.0,>=3.0.11->ipython>=5.0.0->ipykernel<6,>=4.10.1->icevision) (0.2.5)\n",
      "Requirement already satisfied: MarkupSafe>=2.1.1 in d:\\vs_code\\.venv\\lib\\site-packages (from werkzeug>=1.0.1->tensorboard>=2.2->yolov5-icevision>=6.0.0->icevision) (2.1.1)\n",
      "Requirement already satisfied: fsspec>=2023.5.0 in d:\\vs_code\\.venv\\lib\\site-packages (from huggingface_hub->timm>=0.3.2->effdet<0.3,>=0.2.1->icevision) (2024.2.0)\n",
      "Requirement already satisfied: filelock in d:\\vs_code\\.venv\\lib\\site-packages (from huggingface_hub->timm>=0.3.2->effdet<0.3,>=0.2.1->icevision) (3.13.1)\n",
      "Requirement already satisfied: asttokens>=2.1.0 in d:\\vs_code\\.venv\\lib\\site-packages (from stack-data->ipython>=5.0.0->ipykernel<6,>=4.10.1->icevision) (2.2.1)\n",
      "Requirement already satisfied: pure-eval in d:\\vs_code\\.venv\\lib\\site-packages (from stack-data->ipython>=5.0.0->ipykernel<6,>=4.10.1->icevision) (0.2.2)\n",
      "Requirement already satisfied: executing>=1.2.0 in d:\\vs_code\\.venv\\lib\\site-packages (from stack-data->ipython>=5.0.0->ipykernel<6,>=4.10.1->icevision) (1.2.0)\n"
     ]
    }
   ],
   "source": [
    "pip install icevision"
   ]
  },
  {
   "cell_type": "code",
   "execution_count": 3,
   "metadata": {},
   "outputs": [],
   "source": [
    "import os"
   ]
  },
  {
   "cell_type": "code",
   "execution_count": 4,
   "metadata": {},
   "outputs": [
    {
     "name": "stderr",
     "output_type": "stream",
     "text": [
      "d:\\VS_CODE\\.venv\\lib\\site-packages\\tqdm\\auto.py:21: TqdmWarning: IProgress not found. Please update jupyter and ipywidgets. See https://ipywidgets.readthedocs.io/en/stable/user_install.html\n",
      "  from .autonotebook import tqdm as notebook_tqdm\n",
      "\u001b[1m\u001b[1mINFO    \u001b[0m\u001b[1m\u001b[0m - \u001b[1mDownloading default `.ttf` font file - SpaceGrotesk-Medium.ttf from https://raw.githubusercontent.com/airctic/storage/master/SpaceGrotesk-Medium.ttf to C:\\Users\\Sri Sai\\.icevision\\fonts\\SpaceGrotesk-Medium.ttf\u001b[0m | \u001b[36micevision.visualize.utils\u001b[0m:\u001b[36mget_default_font\u001b[0m:\u001b[36m67\u001b[0m\n"
     ]
    },
    {
     "name": "stdout",
     "output_type": "stream",
     "text": [
      "Downloading https://ultralytics.com/assets/Arial.ttf to C:\\Users\\Sri Sai\\AppData\\Roaming\\Ultralytics\\Arial.ttf...\n"
     ]
    },
    {
     "ename": "ModuleNotFoundError",
     "evalue": "No module named 'sahi.model'",
     "output_type": "error",
     "traceback": [
      "\u001b[1;31m---------------------------------------------------------------------------\u001b[0m",
      "\u001b[1;31mModuleNotFoundError\u001b[0m                       Traceback (most recent call last)",
      "Cell \u001b[1;32mIn[4], line 1\u001b[0m\n\u001b[1;32m----> 1\u001b[0m \u001b[38;5;28;01mfrom\u001b[39;00m \u001b[38;5;21;01mLOGOS\u001b[39;00m\u001b[38;5;21;01m.\u001b[39;00m\u001b[38;5;21;01mutils\u001b[39;00m\u001b[38;5;21;01m.\u001b[39;00m\u001b[38;5;21;01mlogodetect\u001b[39;00m \u001b[38;5;28;01mimport\u001b[39;00m logodetection\n",
      "File \u001b[1;32mc:\\Users\\Sri Sai\\OneDrive\\Desktop\\IDP\\phase_3\\LOGOS\\utils\\logodetect.py:3\u001b[0m\n\u001b[0;32m      1\u001b[0m \u001b[38;5;28;01mfrom\u001b[39;00m \u001b[38;5;21;01munittest\u001b[39;00m \u001b[38;5;28;01mimport\u001b[39;00m result\n\u001b[0;32m      2\u001b[0m \u001b[38;5;28;01mimport\u001b[39;00m \u001b[38;5;21;01mtorch\u001b[39;00m\n\u001b[1;32m----> 3\u001b[0m \u001b[38;5;28;01mfrom\u001b[39;00m \u001b[38;5;21;01micevision\u001b[39;00m\u001b[38;5;21;01m.\u001b[39;00m\u001b[38;5;21;01mall\u001b[39;00m \u001b[38;5;28;01mimport\u001b[39;00m \u001b[38;5;241m*\u001b[39m\n\u001b[0;32m      4\u001b[0m \u001b[38;5;28;01mimport\u001b[39;00m \u001b[38;5;21;01mpandas\u001b[39;00m \u001b[38;5;28;01mas\u001b[39;00m \u001b[38;5;21;01mpd\u001b[39;00m\n\u001b[0;32m      5\u001b[0m \u001b[38;5;28;01mfrom\u001b[39;00m \u001b[38;5;21;01micevision\u001b[39;00m\u001b[38;5;21;01m.\u001b[39;00m\u001b[38;5;21;01mmodels\u001b[39;00m\u001b[38;5;21;01m.\u001b[39;00m\u001b[38;5;21;01mcheckpoint\u001b[39;00m \u001b[38;5;28;01mimport\u001b[39;00m model_from_checkpoint\n",
      "File \u001b[1;32md:\\VS_CODE\\.venv\\lib\\site-packages\\icevision\\__init__.py:7\u001b[0m\n\u001b[0;32m      5\u001b[0m \u001b[38;5;28;01mfrom\u001b[39;00m \u001b[38;5;21;01micevision\u001b[39;00m\u001b[38;5;21;01m.\u001b[39;00m\u001b[38;5;21;01mdata\u001b[39;00m \u001b[38;5;28;01mimport\u001b[39;00m \u001b[38;5;241m*\u001b[39m\n\u001b[0;32m      6\u001b[0m \u001b[38;5;28;01mfrom\u001b[39;00m \u001b[38;5;21;01micevision\u001b[39;00m \u001b[38;5;28;01mimport\u001b[39;00m backbones\n\u001b[1;32m----> 7\u001b[0m \u001b[38;5;28;01mfrom\u001b[39;00m \u001b[38;5;21;01micevision\u001b[39;00m \u001b[38;5;28;01mimport\u001b[39;00m models\n\u001b[0;32m      8\u001b[0m \u001b[38;5;28;01mfrom\u001b[39;00m \u001b[38;5;21;01micevision\u001b[39;00m\u001b[38;5;21;01m.\u001b[39;00m\u001b[38;5;21;01mmetrics\u001b[39;00m \u001b[38;5;28;01mimport\u001b[39;00m \u001b[38;5;241m*\u001b[39m\n\u001b[0;32m      9\u001b[0m \u001b[38;5;28;01mfrom\u001b[39;00m \u001b[38;5;21;01micevision\u001b[39;00m\u001b[38;5;21;01m.\u001b[39;00m\u001b[38;5;21;01mvisualize\u001b[39;00m \u001b[38;5;28;01mimport\u001b[39;00m \u001b[38;5;241m*\u001b[39m\n",
      "File \u001b[1;32md:\\VS_CODE\\.venv\\lib\\site-packages\\icevision\\models\\__init__.py:32\u001b[0m\n\u001b[0;32m     29\u001b[0m     \u001b[38;5;28;01mfrom\u001b[39;00m \u001b[38;5;21;01micevision\u001b[39;00m\u001b[38;5;21;01m.\u001b[39;00m\u001b[38;5;21;01mmodels\u001b[39;00m \u001b[38;5;28;01mimport\u001b[39;00m fastai\n\u001b[0;32m     31\u001b[0m \u001b[38;5;28;01mif\u001b[39;00m SoftDependencies\u001b[38;5;241m.\u001b[39msahi:\n\u001b[1;32m---> 32\u001b[0m     \u001b[38;5;28;01mfrom\u001b[39;00m \u001b[38;5;21;01micevision\u001b[39;00m\u001b[38;5;21;01m.\u001b[39;00m\u001b[38;5;21;01mmodels\u001b[39;00m \u001b[38;5;28;01mimport\u001b[39;00m inference_sahi\n",
      "File \u001b[1;32md:\\VS_CODE\\.venv\\lib\\site-packages\\icevision\\models\\inference_sahi.py:14\u001b[0m\n\u001b[0;32m     10\u001b[0m \u001b[38;5;28;01mfrom\u001b[39;00m \u001b[38;5;21;01micevision\u001b[39;00m\u001b[38;5;21;01m.\u001b[39;00m\u001b[38;5;21;01mvisualize\u001b[39;00m\u001b[38;5;21;01m.\u001b[39;00m\u001b[38;5;21;01mutils\u001b[39;00m \u001b[38;5;28;01mimport\u001b[39;00m \u001b[38;5;241m*\u001b[39m\n\u001b[0;32m     11\u001b[0m \u001b[38;5;28;01mfrom\u001b[39;00m \u001b[38;5;21;01micevision\u001b[39;00m\u001b[38;5;21;01m.\u001b[39;00m\u001b[38;5;21;01mtfms\u001b[39;00m\u001b[38;5;21;01m.\u001b[39;00m\u001b[38;5;21;01malbumentations\u001b[39;00m \u001b[38;5;28;01mimport\u001b[39;00m albumentations_adapter\n\u001b[1;32m---> 14\u001b[0m \u001b[38;5;28;01mfrom\u001b[39;00m \u001b[38;5;21;01msahi\u001b[39;00m\u001b[38;5;21;01m.\u001b[39;00m\u001b[38;5;21;01mmodel\u001b[39;00m \u001b[38;5;28;01mimport\u001b[39;00m DetectionModel\n\u001b[0;32m     15\u001b[0m \u001b[38;5;28;01mfrom\u001b[39;00m \u001b[38;5;21;01msahi\u001b[39;00m\u001b[38;5;21;01m.\u001b[39;00m\u001b[38;5;21;01mprediction\u001b[39;00m \u001b[38;5;28;01mimport\u001b[39;00m ObjectPrediction\n\u001b[0;32m     16\u001b[0m \u001b[38;5;28;01mfrom\u001b[39;00m \u001b[38;5;21;01msahi\u001b[39;00m\u001b[38;5;21;01m.\u001b[39;00m\u001b[38;5;21;01mpredict\u001b[39;00m \u001b[38;5;28;01mimport\u001b[39;00m get_sliced_prediction \u001b[38;5;28;01mas\u001b[39;00m sahi_get_sliced_prediction\n",
      "\u001b[1;31mModuleNotFoundError\u001b[0m: No module named 'sahi.model'"
     ]
    }
   ],
   "source": [
    "from LOGOS.utils.logodetect import logodetection"
   ]
  },
  {
   "cell_type": "code",
   "execution_count": null,
   "metadata": {},
   "outputs": [
    {
     "ename": "SyntaxError",
     "evalue": "invalid syntax (1026101131.py, line 1)",
     "output_type": "error",
     "traceback": [
      "\u001b[1;36m  Cell \u001b[1;32mIn[10], line 1\u001b[1;36m\u001b[0m\n\u001b[1;33m    from C:/Users/Sri Sai/OneDrive/Desktop/IDP/phase_3/LOGOS/utils/logodetect.py import logodetection\u001b[0m\n\u001b[1;37m          ^\u001b[0m\n\u001b[1;31mSyntaxError\u001b[0m\u001b[1;31m:\u001b[0m invalid syntax\n"
     ]
    }
   ],
   "source": [
    "from C:/Users/Sri Sai/OneDrive/Desktop/IDP/phase_3/LOGOS/utils/logodetect.py import logodetection"
   ]
  },
  {
   "cell_type": "code",
   "execution_count": null,
   "metadata": {},
   "outputs": [
    {
     "name": "stderr",
     "output_type": "stream",
     "text": [
      "'wget' is not recognized as an internal or external command,\n",
      "operable program or batch file.\n"
     ]
    },
    {
     "name": "stderr",
     "output_type": "stream",
     "text": [
      "/bin/bash: icevision_install.sh: No such file or directory\n"
     ]
    }
   ],
   "source": [
    "# Torch - Torchvision - IceVision - IceData - MMDetection - YOLOv5 - EfficientDet Installation\n",
    "!wget https://raw.githubusercontent.com/airctic/icevision/master/icevision_install.sh\n",
    "\n",
    "# Choose your installation target: cuda11 or cuda10 or cpu\n",
    "!bash icevision_install.sh cpu"
   ]
  },
  {
   "cell_type": "code",
   "execution_count": null,
   "metadata": {},
   "outputs": [
    {
     "name": "stdout",
     "output_type": "stream",
     "text": [
      "c:\\Users\\Sri Sai\\OneDrive\\Desktop\\IDP\\phase_3\\LOGOS\n"
     ]
    },
    {
     "name": "stderr",
     "output_type": "stream",
     "text": [
      "fatal: destination path 'LOGOS' already exists and is not an empty directory.\n"
     ]
    }
   ],
   "source": [
    "!git clone https://github.com/LaotechLabs/LOGOS.git\n",
    "%cd LOGOS"
   ]
  },
  {
   "cell_type": "code",
   "execution_count": null,
   "metadata": {},
   "outputs": [
    {
     "name": "stdout",
     "output_type": "stream",
     "text": [
      "C:\\Users\\Sri Sai\\OneDrive\\Desktop\\IDP\\phase_3\\content\\LOGOS\\utils\\models\\logo_model\n",
      "Requirement already satisfied: gdown in d:\\vs_code\\.venv\\lib\\site-packages (5.1.0)\n",
      "Requirement already satisfied: filelock in d:\\vs_code\\.venv\\lib\\site-packages (from gdown) (3.13.1)\n",
      "Requirement already satisfied: tqdm in d:\\vs_code\\.venv\\lib\\site-packages (from gdown) (4.66.2)\n",
      "Requirement already satisfied: beautifulsoup4 in d:\\vs_code\\.venv\\lib\\site-packages (from gdown) (4.11.1)\n",
      "Requirement already satisfied: requests[socks] in d:\\vs_code\\.venv\\lib\\site-packages (from gdown) (2.31.0)\n",
      "Requirement already satisfied: soupsieve>1.2 in d:\\vs_code\\.venv\\lib\\site-packages (from beautifulsoup4->gdown) (2.3.2.post1)\n",
      "Requirement already satisfied: certifi>=2017.4.17 in d:\\vs_code\\.venv\\lib\\site-packages (from requests[socks]->gdown) (2024.2.2)\n",
      "Requirement already satisfied: charset-normalizer<4,>=2 in d:\\vs_code\\.venv\\lib\\site-packages (from requests[socks]->gdown) (3.3.2)\n",
      "Requirement already satisfied: urllib3<3,>=1.21.1 in d:\\vs_code\\.venv\\lib\\site-packages (from requests[socks]->gdown) (2.2.1)\n",
      "Requirement already satisfied: idna<4,>=2.5 in d:\\vs_code\\.venv\\lib\\site-packages (from requests[socks]->gdown) (3.4)\n",
      "Requirement already satisfied: PySocks!=1.5.7,>=1.5.6 in d:\\vs_code\\.venv\\lib\\site-packages (from requests[socks]->gdown) (1.7.1)\n",
      "Requirement already satisfied: colorama in d:\\vs_code\\.venv\\lib\\site-packages (from tqdm->gdown) (0.4.6)\n"
     ]
    },
    {
     "name": "stderr",
     "output_type": "stream",
     "text": [
      "\n",
      "[notice] A new release of pip available: 22.3.1 -> 24.0\n",
      "[notice] To update, run: python.exe -m pip install --upgrade pip\n",
      "Downloading...\n",
      "From (original): https://drive.google.com/uc?id=1GKL15g_-g3xpUwW8tVLMKQPIv-7C77ql\n",
      "From (redirected): https://drive.google.com/uc?id=1GKL15g_-g3xpUwW8tVLMKQPIv-7C77ql&confirm=t&uuid=0de0afcf-c28b-4ed4-9cf6-73c6ef9bd000\n",
      "To: C:\\Users\\Sri Sai\\OneDrive\\Desktop\\IDP\\phase_3\\content\\LOGOS\\utils\\models\\logo_model\\logo-retinanet-checkpoint-52k_384_50.pth\n",
      "\n",
      "  0%|          | 0.00/146M [00:00<?, ?B/s]\n",
      "  0%|          | 524k/146M [00:00<02:11, 1.10MB/s]\n",
      "  1%|          | 1.57M/146M [00:00<00:46, 3.12MB/s]\n",
      "  2%|▏         | 3.15M/146M [00:00<00:28, 5.08MB/s]\n",
      "  4%|▎         | 5.24M/146M [00:00<00:16, 8.28MB/s]\n",
      "  5%|▍         | 6.82M/146M [00:01<00:24, 5.58MB/s]\n",
      "  8%|▊         | 11.0M/146M [00:01<00:12, 10.7MB/s]\n",
      "  9%|▉         | 13.6M/146M [00:01<00:09, 13.2MB/s]\n",
      " 11%|█         | 15.7M/146M [00:01<00:08, 14.5MB/s]\n",
      " 12%|█▏        | 17.8M/146M [00:01<00:08, 15.8MB/s]\n",
      " 14%|█▍        | 20.4M/146M [00:01<00:06, 18.0MB/s]\n",
      " 16%|█▌        | 23.1M/146M [00:02<00:06, 19.8MB/s]\n",
      " 18%|█▊        | 25.7M/146M [00:02<00:07, 16.8MB/s]\n",
      " 20%|██        | 29.4M/146M [00:02<00:05, 20.4MB/s]\n",
      " 22%|██▏       | 32.0M/146M [00:02<00:05, 20.6MB/s]\n",
      " 24%|██▎       | 34.6M/146M [00:02<00:05, 20.6MB/s]\n",
      " 26%|██▌       | 37.2M/146M [00:02<00:05, 20.1MB/s]\n",
      " 27%|██▋       | 39.8M/146M [00:02<00:05, 20.6MB/s]\n",
      " 29%|██▉       | 42.5M/146M [00:03<00:05, 17.8MB/s]\n",
      " 32%|███▏      | 46.1M/146M [00:03<00:04, 21.7MB/s]\n",
      " 33%|███▎      | 48.8M/146M [00:03<00:05, 18.2MB/s]\n",
      " 35%|███▍      | 50.9M/146M [00:03<00:05, 18.6MB/s]\n",
      " 37%|███▋      | 54.0M/146M [00:03<00:04, 20.6MB/s]\n",
      " 39%|███▉      | 56.6M/146M [00:03<00:04, 19.1MB/s]\n",
      " 41%|████      | 59.2M/146M [00:03<00:04, 20.5MB/s]\n",
      " 42%|████▏     | 61.9M/146M [00:03<00:04, 19.9MB/s]\n",
      " 44%|████▍     | 64.5M/146M [00:04<00:04, 18.7MB/s]\n",
      " 46%|████▌     | 66.6M/146M [00:04<00:04, 18.6MB/s]\n",
      " 47%|████▋     | 68.7M/146M [00:04<00:05, 15.3MB/s]\n",
      " 50%|████▉     | 72.4M/146M [00:04<00:03, 19.0MB/s]\n",
      " 51%|█████     | 74.4M/146M [00:04<00:04, 16.7MB/s]\n",
      " 53%|█████▎    | 76.5M/146M [00:04<00:04, 16.4MB/s]\n",
      " 54%|█████▍    | 78.6M/146M [00:05<00:03, 16.8MB/s]\n",
      " 55%|█████▌    | 80.7M/146M [00:05<00:04, 15.5MB/s]\n",
      " 57%|█████▋    | 82.8M/146M [00:05<00:04, 14.4MB/s]\n",
      " 58%|█████▊    | 84.4M/146M [00:05<00:04, 13.4MB/s]\n",
      " 59%|█████▉    | 86.0M/146M [00:05<00:04, 13.7MB/s]\n",
      " 60%|██████    | 87.6M/146M [00:05<00:04, 13.8MB/s]\n",
      " 61%|██████    | 89.1M/146M [00:05<00:03, 14.3MB/s]\n",
      " 63%|██████▎   | 91.2M/146M [00:05<00:03, 14.6MB/s]\n",
      " 64%|██████▍   | 93.3M/146M [00:06<00:03, 14.4MB/s]\n",
      " 65%|██████▌   | 94.9M/146M [00:06<00:03, 14.6MB/s]\n",
      " 67%|██████▋   | 97.0M/146M [00:06<00:03, 15.0MB/s]\n",
      " 68%|██████▊   | 99.1M/146M [00:06<00:03, 14.1MB/s]\n",
      " 69%|██████▉   | 101M/146M [00:06<00:02, 15.2MB/s] \n",
      " 71%|███████   | 103M/146M [00:06<00:02, 14.9MB/s]\n",
      " 72%|███████▏  | 105M/146M [00:06<00:02, 15.7MB/s]\n",
      " 73%|███████▎  | 107M/146M [00:07<00:02, 14.2MB/s]\n",
      " 75%|███████▍  | 109M/146M [00:07<00:02, 15.0MB/s]\n",
      " 76%|███████▋  | 111M/146M [00:07<00:02, 13.9MB/s]\n",
      " 77%|███████▋  | 113M/146M [00:07<00:02, 13.9MB/s]\n",
      " 79%|███████▉  | 115M/146M [00:07<00:01, 15.5MB/s]\n",
      " 80%|████████  | 117M/146M [00:07<00:01, 16.0MB/s]\n",
      " 82%|████████▏ | 119M/146M [00:07<00:01, 14.3MB/s]\n",
      " 83%|████████▎ | 121M/146M [00:07<00:01, 15.4MB/s]\n",
      " 85%|████████▍ | 123M/146M [00:08<00:01, 16.0MB/s]\n",
      " 86%|████████▌ | 125M/146M [00:08<00:01, 16.7MB/s]\n",
      " 87%|████████▋ | 127M/146M [00:08<00:01, 15.2MB/s]\n",
      " 89%|████████▉ | 129M/146M [00:08<00:01, 16.1MB/s]\n",
      " 90%|█████████ | 132M/146M [00:08<00:00, 15.9MB/s]\n",
      " 92%|█████████▏| 134M/146M [00:08<00:00, 15.3MB/s]\n",
      " 93%|█████████▎| 135M/146M [00:08<00:00, 14.8MB/s]\n",
      " 94%|█████████▍| 137M/146M [00:08<00:00, 14.3MB/s]\n",
      " 95%|█████████▌| 139M/146M [00:09<00:00, 14.4MB/s]\n",
      " 96%|█████████▋| 141M/146M [00:09<00:00, 14.5MB/s]\n",
      " 98%|█████████▊| 143M/146M [00:09<00:00, 14.4MB/s]\n",
      " 99%|█████████▉| 144M/146M [00:09<00:00, 14.4MB/s]\n",
      "100%|██████████| 146M/146M [00:09<00:00, 15.2MB/s]\n"
     ]
    },
    {
     "name": "stdout",
     "output_type": "stream",
     "text": [
      "[WinError 3] The system cannot find the path specified: '/content/LOGOS'\n",
      "C:\\Users\\Sri Sai\\OneDrive\\Desktop\\IDP\\phase_3\\content\\LOGOS\\utils\\models\\logo_model\n"
     ]
    },
    {
     "name": "stderr",
     "output_type": "stream",
     "text": [
      "Downloading...\n",
      "From (original): https://drive.google.com/uc?id=1iLAgefVtpRZhMZwCrO1hfFpBXq5CDcrS\n",
      "From (redirected): https://drive.google.com/uc?id=1iLAgefVtpRZhMZwCrO1hfFpBXq5CDcrS&confirm=t&uuid=f66289f5-3186-4fcf-87f0-732230033995\n",
      "To: C:\\Users\\Sri Sai\\OneDrive\\Desktop\\IDP\\phase_3\\content\\LOGOS\\utils\\models\\logo_model\\logo-retinanet-checkpoint-30000_30.pth\n",
      "\n",
      "  0%|          | 0.00/146M [00:00<?, ?B/s]\n",
      "  0%|          | 524k/146M [00:00<01:47, 1.35MB/s]\n",
      "  1%|          | 1.57M/146M [00:00<00:42, 3.43MB/s]\n",
      "  2%|▏         | 3.15M/146M [00:00<00:23, 6.17MB/s]\n",
      "  3%|▎         | 4.19M/146M [00:00<00:21, 6.50MB/s]\n",
      "  5%|▍         | 6.82M/146M [00:00<00:12, 11.2MB/s]\n",
      "  6%|▌         | 8.39M/146M [00:01<00:12, 11.3MB/s]\n",
      "  9%|▊         | 12.6M/146M [00:01<00:07, 18.5MB/s]\n",
      " 10%|█         | 15.2M/146M [00:01<00:07, 17.7MB/s]\n",
      " 12%|█▏        | 17.3M/146M [00:01<00:07, 17.0MB/s]\n",
      " 14%|█▍        | 21.0M/146M [00:01<00:06, 18.8MB/s]\n",
      " 19%|█▉        | 28.3M/146M [00:01<00:03, 30.3MB/s]\n",
      " 22%|██▏       | 32.0M/146M [00:01<00:03, 29.5MB/s]\n",
      " 24%|██▍       | 35.1M/146M [00:01<00:03, 29.7MB/s]\n",
      " 26%|██▋       | 38.3M/146M [00:02<00:03, 28.9MB/s]\n",
      " 29%|██▉       | 41.9M/146M [00:02<00:03, 27.9MB/s]\n",
      " 32%|███▏      | 46.7M/146M [00:02<00:03, 32.4MB/s]\n",
      " 35%|███▍      | 50.3M/146M [00:02<00:03, 26.4MB/s]\n",
      " 37%|███▋      | 54.0M/146M [00:02<00:03, 27.8MB/s]\n",
      " 39%|███▉      | 57.1M/146M [00:02<00:03, 27.0MB/s]\n",
      " 41%|████▏     | 60.3M/146M [00:02<00:03, 25.6MB/s]\n",
      " 44%|████▎     | 63.4M/146M [00:03<00:03, 24.8MB/s]\n",
      " 45%|████▌     | 66.1M/146M [00:03<00:03, 23.4MB/s]\n",
      " 47%|████▋     | 68.7M/146M [00:03<00:03, 22.4MB/s]\n",
      " 49%|████▉     | 71.8M/146M [00:03<00:04, 18.1MB/s]\n",
      " 53%|█████▎    | 77.6M/146M [00:03<00:02, 25.9MB/s]\n",
      " 55%|█████▌    | 80.7M/146M [00:03<00:02, 24.4MB/s]\n",
      " 58%|█████▊    | 83.9M/146M [00:03<00:02, 22.8MB/s]\n",
      " 59%|█████▉    | 86.5M/146M [00:04<00:02, 21.1MB/s]\n",
      " 61%|██████    | 89.1M/146M [00:04<00:02, 20.1MB/s]\n",
      " 63%|██████▎   | 91.8M/146M [00:04<00:02, 18.7MB/s]\n",
      " 64%|██████▍   | 93.8M/146M [00:04<00:02, 18.2MB/s]\n",
      " 66%|██████▌   | 95.9M/146M [00:04<00:02, 18.4MB/s]\n",
      " 67%|██████▋   | 98.0M/146M [00:04<00:02, 18.3MB/s]\n",
      " 69%|██████▊   | 100M/146M [00:04<00:02, 18.2MB/s] \n",
      " 70%|███████   | 102M/146M [00:05<00:02, 16.1MB/s]\n",
      " 72%|███████▏  | 104M/146M [00:05<00:02, 16.3MB/s]\n",
      " 73%|███████▎  | 106M/146M [00:05<00:03, 12.0MB/s]\n",
      " 74%|███████▍  | 109M/146M [00:05<00:03, 12.2MB/s]\n",
      " 76%|███████▌  | 111M/146M [00:05<00:02, 13.6MB/s]\n",
      " 78%|███████▊  | 113M/146M [00:05<00:02, 14.8MB/s]\n",
      " 79%|███████▉  | 115M/146M [00:06<00:02, 14.7MB/s]\n",
      " 80%|████████  | 117M/146M [00:06<00:01, 14.6MB/s]\n",
      " 82%|████████▏ | 119M/146M [00:06<00:01, 14.8MB/s]\n",
      " 83%|████████▎ | 121M/146M [00:06<00:01, 14.6MB/s]\n",
      " 84%|████████▍ | 122M/146M [00:06<00:01, 14.7MB/s]\n",
      " 85%|████████▌ | 124M/146M [00:06<00:01, 15.8MB/s]\n",
      " 87%|████████▋ | 126M/146M [00:06<00:01, 13.0MB/s]\n",
      " 89%|████████▊ | 129M/146M [00:07<00:01, 14.8MB/s]\n",
      " 90%|█████████ | 132M/146M [00:07<00:00, 14.5MB/s]\n",
      " 92%|█████████▏| 134M/146M [00:07<00:00, 15.4MB/s]\n",
      " 94%|█████████▎| 136M/146M [00:07<00:00, 15.9MB/s]\n",
      " 95%|█████████▍| 138M/146M [00:07<00:00, 15.7MB/s]\n",
      " 96%|█████████▋| 141M/146M [00:07<00:00, 15.9MB/s]\n",
      " 98%|█████████▊| 143M/146M [00:07<00:00, 16.6MB/s]\n",
      "100%|██████████| 146M/146M [00:07<00:00, 17.6MB/s]\n",
      "100%|██████████| 146M/146M [00:07<00:00, 18.2MB/s]\n"
     ]
    }
   ],
   "source": [
    "folder = \"C:/Users/Sri Sai/OneDrive/Desktop/IDP/phase_3/content/LOGOS/utils/models/logo_model\"\n",
    "os.makedirs(folder, exist_ok=True)\n",
    "%cd C:/Users/Sri Sai/OneDrive/Desktop/IDP/phase_3/content/LOGOS/utils/models/logo_model\n",
    "## download the pretrained weights\n",
    "!pip install --upgrade --no-cache-dir gdown\n",
    "!gdown 1GKL15g_-g3xpUwW8tVLMKQPIv-7C77ql\n",
    "!gdown 1iLAgefVtpRZhMZwCrO1hfFpBXq5CDcrS\n",
    "%cd /content/LOGOS"
   ]
  }
 ],
 "metadata": {
  "kernelspec": {
   "display_name": ".venv",
   "language": "python",
   "name": "python3"
  },
  "language_info": {
   "codemirror_mode": {
    "name": "ipython",
    "version": 3
   },
   "file_extension": ".py",
   "mimetype": "text/x-python",
   "name": "python",
   "nbconvert_exporter": "python",
   "pygments_lexer": "ipython3",
   "version": "3.9.13"
  }
 },
 "nbformat": 4,
 "nbformat_minor": 2
}
