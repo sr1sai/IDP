{
 "cells": [
  {
   "cell_type": "code",
   "execution_count": 2,
   "metadata": {},
   "outputs": [
    {
     "name": "stderr",
     "output_type": "stream",
     "text": [
      "d:\\VS_CODE\\.venv\\lib\\site-packages\\tqdm\\auto.py:21: TqdmWarning: IProgress not found. Please update jupyter and ipywidgets. See https://ipywidgets.readthedocs.io/en/stable/user_install.html\n",
      "  from .autonotebook import tqdm as notebook_tqdm\n"
     ]
    }
   ],
   "source": [
    "import numpy as np\n",
    "import torch\n",
    "import cv2\n",
    "from ultralytics import YOLO"
   ]
  },
  {
   "cell_type": "code",
   "execution_count": 3,
   "metadata": {},
   "outputs": [],
   "source": [
    "# Load YOLO model\n",
    "model = YOLO('yolov8n-seg.pt')"
   ]
  },
  {
   "cell_type": "code",
   "execution_count": 4,
   "metadata": {},
   "outputs": [],
   "source": [
    "# Read the image\n",
    "img = cv2.imread(\"C:\\\\Users\\\\Sri Sai\\\\OneDrive\\\\Desktop\\\\IDP\\\\phase_3\\\\vid1_frame_0.jpg\")"
   ]
  },
  {
   "cell_type": "code",
   "execution_count": 5,
   "metadata": {},
   "outputs": [
    {
     "name": "stdout",
     "output_type": "stream",
     "text": [
      "\n",
      "0: 640x576 1 cup, 1 sandwich, 1 chair, 1 dining table, 264.7ms\n",
      "Speed: 6.4ms preprocess, 264.7ms inference, 27.1ms postprocess per image at shape (1, 3, 640, 576)\n"
     ]
    }
   ],
   "source": [
    "# Make predictions\n",
    "res = model(img)"
   ]
  },
  {
   "cell_type": "code",
   "execution_count": 6,
   "metadata": {},
   "outputs": [],
   "source": [
    "for box in res[0].boxes:\n",
    "    class_name = res[0].names[int(box.cls)]\n",
    "    # Extract box coordinates\n",
    "    xyxy = box.xyxy[0].int().cpu().numpy()  # box.xyxy is a list, so we access its first element\n",
    "    x1, y1, x2, y2 = xyxy\n",
    "    # Extract segment from the image\n",
    "    segment = img[y1:y2, x1:x2]\n",
    "    # Display or process the segment as needed\n",
    "    cv2.imshow(class_name, segment)\n",
    "    cv2.waitKey(0)\n",
    "    cv2.destroyAllWindows()"
   ]
  },
  {
   "cell_type": "code",
   "execution_count": null,
   "metadata": {},
   "outputs": [],
   "source": []
  }
 ],
 "metadata": {
  "kernelspec": {
   "display_name": ".venv",
   "language": "python",
   "name": "python3"
  },
  "language_info": {
   "codemirror_mode": {
    "name": "ipython",
    "version": 3
   },
   "file_extension": ".py",
   "mimetype": "text/x-python",
   "name": "python",
   "nbconvert_exporter": "python",
   "pygments_lexer": "ipython3",
   "version": "3.9.13"
  }
 },
 "nbformat": 4,
 "nbformat_minor": 2
}
